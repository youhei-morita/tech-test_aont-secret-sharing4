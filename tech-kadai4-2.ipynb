{
 "cells": [
  {
   "cell_type": "code",
   "execution_count": 1,
   "metadata": {},
   "outputs": [
    {
     "name": "stdout",
     "output_type": "stream",
     "text": [
      "共通鍵暗号の鍵k: b'>\\xf0F\\xab\\x8f\\x14}\\xc7\\x03\\xcc|\\xad\\x11\\x16\\xd5R\\xd2p<\\xd8`k\\xe3\\x8a\\xfa\\xcb\\x9e\\x98|\\xb1T\\xce'\n",
      "公開された共通鍵暗号の鍵k_0: b'L\\x92\\xbe\\xfb\\x07\\xf8\\xe7\\xb1\\xf4\\x94G8`{\\xb8W\\xfb\\xaf\\x85\\xee[Y\\x15I\\xe2\\xcbHu\\xe4X\\xd7\\\\'\n"
     ]
    }
   ],
   "source": [
    "import os\n",
    "from cryptography.hazmat.primitives import hashes\n",
    "from cryptography.hazmat.primitives.ciphers import Cipher, algorithms, modes\n",
    "from cryptography.hazmat.backends import default_backend\n",
    "from cryptography.hazmat.primitives import padding\n",
    "\n",
    "# データmの準備\n",
    "data = \"私は転職活動中です\"\n",
    "\n",
    "# 共通鍵暗号の鍵k\n",
    "key_k = os.urandom(32)  # 256ビットのランダムな鍵を生成\n",
    "print(\"共通鍵暗号の鍵k:\", key_k)\n",
    "\n",
    "# 公開された共通鍵暗号の鍵k_0の生成\n",
    "key_k_0 = os.urandom(32)  # 32バイト（256ビット）のランダムな鍵を生成する例\n",
    "print(\"公開された共通鍵暗号の鍵k_0:\", key_k_0)"
   ]
  },
  {
   "cell_type": "code",
   "execution_count": 2,
   "metadata": {},
   "outputs": [
    {
     "name": "stdout",
     "output_type": "stream",
     "text": [
      "分割されたブロック:\n",
      "Block 1: 私は転\n",
      "Block 2: 職活動\n",
      "Block 3: 中です\n"
     ]
    }
   ],
   "source": [
    "def split_data_into_blocks(data, num_blocks):\n",
    "    block_size = len(data) // num_blocks\n",
    "    # 分割されたブロックを格納するリスト\n",
    "    blocks = []\n",
    "    # データをブロックサイズごとに分割\n",
    "    for i in range(num_blocks):\n",
    "        if i == num_blocks - 1:\n",
    "            # 最後のブロックはデータの残りすべてを含む\n",
    "            blocks.append(data[i * block_size:])\n",
    "        else:\n",
    "            blocks.append(data[i * block_size: (i + 1) * block_size])\n",
    "    return blocks\n",
    "\n",
    "# ブロック数s\n",
    "num_blocks = 3\n",
    "\n",
    "# データをブロックに分割\n",
    "blocks = split_data_into_blocks(data, num_blocks)\n",
    "print(\"分割されたブロック:\")\n",
    "for i, block in enumerate(blocks):\n",
    "    print(f\"Block {i + 1}: {block}\")"
   ]
  },
  {
   "cell_type": "code",
   "execution_count": 3,
   "metadata": {},
   "outputs": [
    {
     "name": "stdout",
     "output_type": "stream",
     "text": [
      "シェア:\n",
      "Share 1: b'\\xf5Y&\\xb4D\\x86\\xd6\\x8c\\xfa\\xcd\\xa1\\x80\\xdb\\x1a\\xde\\xbb'\n",
      "Share 2: b'\\xe4\\x8f3\\xc2$\\x93ox\\xa6\\xc4\\xf8\\xc3\\x93\\xc1\\x0c\\x17'\n",
      "Share 3: b'[1S\\xf9\\x13\\xa8\\xa2\\x96\\x13\\x9d\\xe2\\x04n\\x94f\\xaa'\n"
     ]
    }
   ],
   "source": [
    "def generate_share(block, key, index):\n",
    "    # インデックスをバイト列に変換\n",
    "    index_bytes = index.to_bytes(4, byteorder='big')\n",
    "    \n",
    "    # ブロックをバイト列に変換\n",
    "    block_bytes = block.encode() if isinstance(block, str) else block\n",
    "    \n",
    "    # パディング\n",
    "    padder = padding.PKCS7(128).padder()\n",
    "    padded_data = padder.update(block_bytes + index_bytes) + padder.finalize()\n",
    "    \n",
    "    # 共通鍵暗号を使用して暗号化\n",
    "    cipher = Cipher(algorithms.AES(key), modes.ECB(), backend=default_backend())\n",
    "    encryptor = cipher.encryptor()\n",
    "    encrypted_data = encryptor.update(padded_data) + encryptor.finalize()\n",
    "    \n",
    "    # シェアを生成\n",
    "    share = bytes(a ^ b for a, b in zip(padded_data, encrypted_data))\n",
    "    \n",
    "    return share\n",
    "\n",
    "# 分割されたブロック\n",
    "blocks = [b\"block1\", b\"block2\", b\"block3\"]\n",
    "# 分割されたブロックの数\n",
    "num_blocks = len(blocks)\n",
    "\n",
    "# シェアに変換\n",
    "shares = []\n",
    "for i, block in enumerate(blocks, start=1):\n",
    "    share = generate_share(block, key_k, i)\n",
    "    shares.append(share)\n",
    "\n",
    "print(\"シェア:\")\n",
    "for i, share in enumerate(shares):\n",
    "    print(f\"Share {i + 1}: {share}\")"
   ]
  },
  {
   "cell_type": "code",
   "execution_count": 4,
   "metadata": {},
   "outputs": [
    {
     "name": "stdout",
     "output_type": "stream",
     "text": [
      "ハッシュ値:\n",
      "Hash 1: b'.\\xab9>r\\x8a&\\x1dA>\\x89\\x1d\\xc3\\xaf\\xc3\\xe1'\n",
      "Hash 2: b'f<\\x0e\\xb3\\xe3w7=\\xd2\\x81\\x1c~\\xf5\\x99T?'\n",
      "Hash 3: b'\\xe4\\xb1\\xd6\\x90\\xc1O\\xd6%\\x07\\x13\\xf8\\x87\\x7f\\xb6a\\xcb'\n"
     ]
    }
   ],
   "source": [
    "def generate_hash(share, key_k_0, index):\n",
    "    # シェアとインデックスを結合\n",
    "    combined_data = bytes(a ^ b for a, b in zip(share, index.to_bytes(4, byteorder='big')))\n",
    "    \n",
    "    # パディング\n",
    "    padder = padding.PKCS7(128).padder()\n",
    "    padded_data = padder.update(combined_data) + padder.finalize()\n",
    "    \n",
    "    # 共通鍵暗号を使用して暗号化\n",
    "    cipher = Cipher(algorithms.AES(key_k_0), modes.ECB(), backend=default_backend())\n",
    "    encryptor = cipher.encryptor()\n",
    "    encrypted_data = encryptor.update(padded_data) + encryptor.finalize()\n",
    "    \n",
    "    return encrypted_data\n",
    "\n",
    "# 公開された共通鍵暗号の鍵k_0\n",
    "key_k_0 = os.urandom(32)  # 256ビットのランダムな鍵を生成\n",
    "\n",
    "# シェア\n",
    "shares = [b\"share1\", b\"share2\", b\"share3\"]\n",
    "# シェアの数\n",
    "num_shares = len(shares)\n",
    "\n",
    "# ハッシュ値を生成\n",
    "hashes = []\n",
    "for i, share in enumerate(shares, start=1):\n",
    "    hash_value = generate_hash(share, key_k_0, i)\n",
    "    hashes.append(hash_value)\n",
    "\n",
    "print(\"ハッシュ値:\")\n",
    "for i, hash_value in enumerate(hashes):\n",
    "    print(f\"Hash {i + 1}: {hash_value}\")\n"
   ]
  },
  {
   "cell_type": "code",
   "execution_count": 5,
   "metadata": {},
   "outputs": [
    {
     "name": "stdout",
     "output_type": "stream",
     "text": [
      "s+1番目のシェア: b'iA\\xab\\x95\\x98\\x121C\\xe9\\x94^\\xdcv\\xd3|\\xaf'\n"
     ]
    }
   ],
   "source": [
    "def generate_final_share(key_k, hashes):\n",
    "    # 初期化\n",
    "    final_share = key_k\n",
    "    \n",
    "    # 共通鍵暗号の鍵とハッシュ値を順番に排他的論理和を取る\n",
    "    for hash_value in hashes:\n",
    "        final_share = bytes(a ^ b for a, b in zip(final_share, hash_value))\n",
    "    \n",
    "    return final_share\n",
    "\n",
    "# ハッシュ値のリスト（仮のダミーデータ）\n",
    "hashes = [os.urandom(16) for _ in range(3)]  # 16バイトのランダムなダミーデータ\n",
    "\n",
    "# s+1番目のブロックをシェアに変換\n",
    "final_share = generate_final_share(key_k, hashes)\n",
    "\n",
    "print(\"s+1番目のシェア:\", final_share)"
   ]
  },
  {
   "cell_type": "code",
   "execution_count": 6,
   "metadata": {},
   "outputs": [
    {
     "name": "stdout",
     "output_type": "stream",
     "text": [
      "共通鍵kを破棄しました。\n"
     ]
    }
   ],
   "source": [
    "# 共通鍵kを破棄\n",
    "key_k = None\n",
    "print(\"共通鍵kを破棄しました。\")"
   ]
  },
  {
   "cell_type": "code",
   "execution_count": 7,
   "metadata": {},
   "outputs": [
    {
     "name": "stdout",
     "output_type": "stream",
     "text": [
      "復元されたkey_k: b'\\x82F\\xd4>\\x1e[t\\xe0\\x8f\\xc9h'\n"
     ]
    }
   ],
   "source": [
    "def recover_key(final_share, hashes):\n",
    "    # 初期化\n",
    "    key_k = final_share\n",
    "    \n",
    "    # ハッシュ値を順番に排他的論理和を取る\n",
    "    for hash_value in hashes:\n",
    "        key_k = bytes(a ^ b for a, b in zip(key_k, hash_value))\n",
    "    \n",
    "    return key_k\n",
    "\n",
    "# s+1番目のブロック（シェア）とハッシュ値のリスト（仮のダミーデータ）\n",
    "final_share = b\"final_share\"  # 仮のダミーデータ\n",
    "hashes = [os.urandom(16) for _ in range(3)]  # 16バイトのランダムなダミーデータ\n",
    "\n",
    "# key_kを復元\n",
    "recovered_key_k = recover_key(final_share, hashes)\n",
    "\n",
    "print(\"復元されたkey_k:\", recovered_key_k)"
   ]
  },
  {
   "cell_type": "code",
   "execution_count": 8,
   "metadata": {},
   "outputs": [
    {
     "name": "stdout",
     "output_type": "stream",
     "text": [
      "Error decrypting block 1: Invalid padding bytes.\n",
      "Error decrypting block 2: Invalid padding bytes.\n",
      "Error decrypting block 3: Invalid padding bytes.\n",
      "復号された文章:\n",
      "\n"
     ]
    }
   ],
   "source": [
    "def decrypt_share(share, key_k, index):\n",
    "    # シェアとインデックスを結合\n",
    "    combined_data = bytes(a ^ b for a, b in zip(share, index.to_bytes(4, byteorder='big')))\n",
    "    \n",
    "    # 共通鍵暗号を使用して復号化\n",
    "    cipher = Cipher(algorithms.AES(key_k), modes.ECB(), backend=default_backend())\n",
    "    decryptor = cipher.decryptor()\n",
    "    decrypted_data = decryptor.update(combined_data)\n",
    "    \n",
    "    # パディングを削除\n",
    "    unpadder = padding.PKCS7(128).unpadder()\n",
    "    unpadded_data = unpadder.update(decrypted_data)\n",
    "    \n",
    "    # パディングの検証\n",
    "    try:\n",
    "        unpadder.finalize()\n",
    "    except ValueError:\n",
    "        raise ValueError(\"Invalid padding bytes.\")\n",
    "    \n",
    "    return unpadded_data\n",
    "\n",
    "# 復元された共通鍵暗号の鍵key_k\n",
    "recovered_key_k = os.urandom(32)  # 仮のダミーデータ\n",
    "\n",
    "# シェアのリスト（仮のダミーデータ）\n",
    "shares = [os.urandom(16) for _ in range(3)]  # 16バイトのランダムなダミーデータ\n",
    "\n",
    "# データを復号\n",
    "decrypted_data = []\n",
    "for i, share in enumerate(shares, start=1):\n",
    "    try:\n",
    "        decrypted_block = decrypt_share(share, recovered_key_k, i)\n",
    "        decrypted_data.append(decrypted_block)\n",
    "    except ValueError as e:\n",
    "        print(f\"Error decrypting block {i}: {e}\")\n",
    "        # パディングの検証に失敗した場合、エラーを処理するか、デフォルト値を返すことができます。\n",
    "\n",
    "# 復号された文章を1つにまとめる\n",
    "full_decrypted_text = b''.join(filter(None, decrypted_data)).decode()\n",
    "\n",
    "# 出力\n",
    "print(\"復号された文章:\")\n",
    "print(full_decrypted_text)\n"
   ]
  }
 ],
 "metadata": {
  "kernelspec": {
   "display_name": "Python 3",
   "language": "python",
   "name": "python3"
  },
  "language_info": {
   "codemirror_mode": {
    "name": "ipython",
    "version": 3
   },
   "file_extension": ".py",
   "mimetype": "text/x-python",
   "name": "python",
   "nbconvert_exporter": "python",
   "pygments_lexer": "ipython3",
   "version": "3.10.13"
  }
 },
 "nbformat": 4,
 "nbformat_minor": 2
}
